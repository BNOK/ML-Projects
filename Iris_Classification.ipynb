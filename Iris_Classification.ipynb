{
  "nbformat": 4,
  "nbformat_minor": 0,
  "metadata": {
    "colab": {
      "name": " Iris Classification.ipynb",
      "provenance": [],
      "collapsed_sections": [],
      "authorship_tag": "ABX9TyMc8aZAqUt/Mbnw2DhXBc1S",
      "include_colab_link": true
    },
    "kernelspec": {
      "name": "python3",
      "display_name": "Python 3"
    }
  },
  "cells": [
    {
      "cell_type": "markdown",
      "metadata": {
        "id": "view-in-github",
        "colab_type": "text"
      },
      "source": [
        "<a href=\"https://colab.research.google.com/github/BNOK/ML-Projects/blob/master/Iris_Classification.ipynb\" target=\"_parent\"><img src=\"https://colab.research.google.com/assets/colab-badge.svg\" alt=\"Open In Colab\"/></a>"
      ]
    },
    {
      "cell_type": "code",
      "metadata": {
        "id": "PaiCS6tgyIlu"
      },
      "source": [
        "from sklearn import datasets\n",
        "import matplotlib.pyplot as plt\n",
        "import math \n"
      ],
      "execution_count": null,
      "outputs": []
    },
    {
      "cell_type": "code",
      "metadata": {
        "id": "cwHWT9Vl0svh"
      },
      "source": [
        "iris = datasets.load_iris()\n",
        "print(iris.DESCR)"
      ],
      "execution_count": null,
      "outputs": []
    },
    {
      "cell_type": "code",
      "metadata": {
        "id": "qvgiM-k11iYa"
      },
      "source": [
        "#data vis \n",
        "y = iris.target\n",
        "x = iris.data[:,:2]\n",
        "plt.scatter(x[:,0], x[:,1], c=y)\n",
        "plt.xlabel('Sepal Length (cm)')\n",
        "plt.ylabel('Sepal Width (cm)')\n",
        "plt.title('Sepal size distribution')"
      ],
      "execution_count": null,
      "outputs": []
    },
    {
      "cell_type": "code",
      "metadata": {
        "id": "Ymd7dT8T20Gz"
      },
      "source": [
        "y = iris.target\n",
        "x = iris.data[:,2:]\n",
        "plt.scatter(x[:,0], x[:,1], c=y)\n",
        "plt.xlabel('Petal Length (cm)')\n",
        "plt.ylabel('Petal Width (cm)')\n",
        "plt.title('Petal size distribution')"
      ],
      "execution_count": null,
      "outputs": []
    },
    {
      "cell_type": "code",
      "metadata": {
        "id": "FdHaRCi92o6t"
      },
      "source": [
        "# function visualization \n",
        "def sigmoid(z):\n",
        "  return 1.0/(1.0 + math.e ** (-z))\n",
        "\n",
        "x=[i*0.1 for i in range(-50,51)]\n",
        "y=[sigmoid(z) for z in x]\n",
        "plt.plot(x,y);\n",
        "plt.xlabel(\"x\")\n",
        "plt.ylabel(\"sig(x)\")"
      ],
      "execution_count": null,
      "outputs": []
    },
    {
      "cell_type": "code",
      "metadata": {
        "id": "m5HeMCNy0TsN"
      },
      "source": [
        "# prediction function \n",
        "def predict(sample):\n",
        "  result = 0.0\n",
        "  for i in range(len(sample)):\n",
        "    result = result + weights[i]* sample[i]\n",
        "\n",
        "  result = result + bias \n",
        "  return sigmoid(result)"
      ],
      "execution_count": null,
      "outputs": []
    },
    {
      "cell_type": "code",
      "metadata": {
        "id": "oLYDvftq8WW6"
      },
      "source": [
        "# Loss function \n",
        "def loss(y_train, y_predicted):\n",
        "  return -(y_train * math.log(y_predicted) + (1.0 - y_train) * math.log(1 - y_predicted))"
      ],
      "execution_count": null,
      "outputs": []
    },
    {
      "cell_type": "code",
      "metadata": {
        "id": "9Tn78qhRMMz4"
      },
      "source": [
        "# back propagation algorithm for one epoch \n",
        "num_features = iris.data.shape[1]\n",
        " \n",
        "def train_one_epoch(x_train_samples, y_train_samples):\n",
        "  cost = 0.0\n",
        "  dw = [0.0] * num_features\n",
        "  db = 0.0\n",
        " \n",
        "  global bias, weights\n",
        " \n",
        "  m = len(x_train_samples)\n",
        "  for i in range(m):\n",
        "    x_sample = x_train_samples[i]\n",
        "    y_sample = y_train_samples[i]\n",
        "    predicted = predict(x_sample)\n",
        "    cost = cost + loss(y_sample, predicted)\n",
        "    \n",
        "    # dz is the derivative of the loss function\n",
        "    dz = predicted - y_sample\n",
        "    \n",
        "    for j in range(len(weights)):\n",
        "      dw[j] = dw[j] + x_sample[j] * dz\n",
        "    db = db + dz\n",
        "  \n",
        "  cost = cost / m\n",
        "  db = db / m\n",
        "  bias = bias - learning_rate*db\n",
        "  for j in range(len(weights)):\n",
        "    dw[j] = dw[j] / m\n",
        "    weights[j] = weights[j] - learning_rate*dw[j]\n",
        "  \n",
        "  return cost"
      ],
      "execution_count": null,
      "outputs": []
    },
    {
      "cell_type": "code",
      "metadata": {
        "id": "dkOZxAgEMYzJ",
        "outputId": "1ab6116a-e32f-43b9-d5dd-4e30e1860c2b",
        "colab": {
          "base_uri": "https://localhost:8080/",
          "height": 295
        }
      },
      "source": [
        "# Model will \"learn\" values for the weights and biases\n",
        " \n",
        "weights = [0.0] * num_features\n",
        "bias = 0.0\n",
        " \n",
        "learning_rate = 0.15\n",
        "\n",
        "epochs = 2500\n",
        "# These are hyper parameter\n",
        "# learning_rate = ?\n",
        "# epochs = ?\n",
        " \n",
        "x_train_samples = iris.data\n",
        "y_train_samples = [1 if y == 0 else 0 for y in iris.target]\n",
        " \n",
        "loss_array = []\n",
        "for epoch in range(epochs):\n",
        "  loss_value = train_one_epoch(x_train_samples, y_train_samples)\n",
        "  loss_array.append(loss_value)\n",
        " \n",
        "plt.plot(range(epochs), loss_array)\n",
        "plt.ylabel('Loss')\n",
        "plt.xlabel('Epoch')\n",
        "plt.title('Loss vs. Epoch')\n",
        "plt.show()"
      ],
      "execution_count": null,
      "outputs": [
        {
          "output_type": "display_data",
          "data": {
            "image/png": "[encoded data removed]",
            "text/plain": [
              "<Figure size 432x288 with 1 Axes>"
            ]
          },
          "metadata": {
            "tags": [],
            "needs_background": "light"
          }
        }
      ]
    },
    {
      "cell_type": "code",
      "metadata": {
        "id": "yimFrDQnMiUm",
        "outputId": "b262e9a0-513e-4341-e23f-813f82e44fa4",
        "colab": {
          "base_uri": "https://localhost:8080/",
          "height": 296
        }
      },
      "source": [
        "predictions = []\n",
        " \n",
        "m = len(x_train_samples)\n",
        "correct = 0\n",
        "for i in range(m):\n",
        "  sample = x_train_samples[i]\n",
        "  value = predict(sample)\n",
        "  predictions.append(value)\n",
        "  if value >= 0.5:\n",
        "    value = 1\n",
        "  else:\n",
        "    value = 0\n",
        "  if value == y_train_samples[i]:\n",
        "    correct = correct + 1.0\n",
        " \n",
        "plt.plot(range(m), predictions, label='Predicted')\n",
        "plt.plot(range(m), y_train_samples, label='Ground truth')\n",
        "plt.ylabel('Prediction')\n",
        "plt.xlabel('Sample')\n",
        "plt.legend(loc='best')\n",
        "plt.show()\n",
        " \n",
        "print('Accuracy: %.2f %%' % (100 * correct/m))"
      ],
      "execution_count": null,
      "outputs": [
        {
          "output_type": "display_data",
          "data": {
            "image/png": "[encoded data removed]",
            "text/plain": [
              "<Figure size 432x288 with 1 Axes>"
            ]
          },
          "metadata": {
            "tags": [],
            "needs_background": "light"
          }
        },
        {
          "output_type": "stream",
          "text": [
            "Accuracy: 100.00 %\n"
          ],
          "name": "stdout"
        }
      ]
    },
    {
      "cell_type": "code",
      "metadata": {
        "id": "IJ57KDZtKbau",
        "outputId": "2e5692a2-37d7-49f0-d250-fb48b57fc19e",
        "colab": {
          "base_uri": "https://localhost:8080/",
          "height": 312
        }
      },
      "source": [
        "# loss function visualization\n",
        "yp = 0.1\n",
        "x= [i * 0.1 for i in range(1,9)]\n",
        "y= [loss(yp,z) for z in x]\n",
        "plt.plot(x,y)\n",
        "plt.xlabel(\"predicted values\")\n",
        "plt.ylabel(\"loss(predicted values)\")\n",
        "plt.title(\"loss function\")"
      ],
      "execution_count": null,
      "outputs": [
        {
          "output_type": "execute_result",
          "data": {
            "text/plain": [
              "Text(0.5, 1.0, 'loss function')"
            ]
          },
          "metadata": {
            "tags": []
          },
          "execution_count": 8
        },
        {
          "output_type": "display_data",
          "data": {
            "image/png": "[encoded data removed]",
            "text/plain": [
              "<Figure size 432x288 with 1 Axes>"
            ]
          },
          "metadata": {
            "tags": [],
            "needs_background": "light"
          }
        }
      ]
    }
  ]
}